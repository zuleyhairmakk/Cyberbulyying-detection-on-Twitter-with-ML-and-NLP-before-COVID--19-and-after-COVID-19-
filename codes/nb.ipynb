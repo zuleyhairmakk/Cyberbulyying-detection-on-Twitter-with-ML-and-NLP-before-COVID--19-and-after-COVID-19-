{
  "nbformat": 4,
  "nbformat_minor": 0,
  "metadata": {
    "colab": {
      "provenance": []
    },
    "kernelspec": {
      "name": "python3",
      "display_name": "Python 3"
    },
    "language_info": {
      "name": "python"
    }
  },
  "cells": [
    {
      "cell_type": "code",
      "execution_count": null,
      "metadata": {
        "colab": {
          "base_uri": "https://localhost:8080/"
        },
        "id": "Oft98x-87dfN",
        "outputId": "82509666-68b8-40e5-dc7d-bf9e9c0683d8"
      },
      "outputs": [
        {
          "output_type": "stream",
          "name": "stdout",
          "text": [
            "Accuracy: 77.41%\n",
            "Precision (Macro): 67.71%\n",
            "Precision (Micro): 77.41%\n",
            "Recall (Macro): 72.47%\n",
            "Recall (Micro): 77.41%\n",
            "F1 Score (Macro): 69.15%\n",
            "F1 Score (Micro): 77.41%\n"
          ]
        }
      ],
      "source": [
        "import pandas as pd\n",
        "from sklearn.feature_extraction.text import CountVectorizer\n",
        "from sklearn.naive_bayes import MultinomialNB\n",
        "from sklearn.metrics import accuracy_score, precision_score, recall_score, f1_score\n",
        "from sklearn.model_selection import train_test_split\n",
        "\n",
        "# Excel dosyasından verileri oku\n",
        "df = pd.read_excel(\"/content/COVIDONCESI.xlsx\")\n",
        "# NaN değerlere sahip satırları sil\n",
        "df = df.dropna()\n",
        "\n",
        "sentences = df['tweets']\n",
        "labels = df['total']\n",
        "\n",
        "\n",
        "# Özellik çıkarma: cümleleri kelime sayısına göre özellik olarak temsil et\n",
        "vectorizer = CountVectorizer()\n",
        "X = vectorizer.fit_transform(df['tweets'].values.astype(str))\n",
        "\n",
        "X_train, X_test, y_train, y_test = train_test_split(X, labels, test_size=0.2, random_state=42)\n",
        "\n",
        "# Naive Bayes modelini eğit\n",
        "nb_clf = MultinomialNB()\n",
        "nb_clf.fit(X_train, y_train)\n",
        "\n",
        "# Test kümesini kullanarak modeli değerlendir\n",
        "y_pred = nb_clf.predict(X_test)\n",
        "\n",
        "# Doğruluk (Accuracy) hesapla\n",
        "accuracy = accuracy_score(y_test, y_pred)\n",
        "print(\"Accuracy: {:.2%}\".format(accuracy))\n",
        "\n",
        "# Hassasiyet (Precision) hesapla (Makro, Mikro)\n",
        "precision_macro = precision_score(y_test, y_pred, average='macro')\n",
        "precision_micro = precision_score(y_test, y_pred, average='micro')\n",
        "print(\"Precision (Macro): {:.2%}\".format(precision_macro))\n",
        "print(\"Precision (Micro): {:.2%}\".format(precision_micro))\n",
        "\n",
        "# Geri çağırma (Recall) hesapla (Makro, Mikro)\n",
        "recall_macro = recall_score(y_test, y_pred, average='macro')\n",
        "recall_micro = recall_score(y_test, y_pred, average='micro')\n",
        "print(\"Recall (Macro): {:.2%}\".format(recall_macro))\n",
        "print(\"Recall (Micro): {:.2%}\".format(recall_micro))\n",
        "\n",
        "# F1 skoru hesapla (Makro, Mikro)\n",
        "f1_macro = f1_score(y_test, y_pred, average='macro')\n",
        "f1_micro = f1_score(y_test, y_pred, average='micro')\n",
        "print(\"F1 Score (Macro): {:.2%}\".format(f1_macro))\n",
        "print(\"F1 Score (Micro): {:.2%}\".format(f1_micro))"
      ]
    }
  ]
}