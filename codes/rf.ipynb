{
  "nbformat": 4,
  "nbformat_minor": 0,
  "metadata": {
    "colab": {
      "provenance": []
    },
    "kernelspec": {
      "name": "python3",
      "display_name": "Python 3"
    },
    "language_info": {
      "name": "python"
    }
  },
  "cells": [
    {
      "cell_type": "code",
      "execution_count": null,
      "metadata": {
        "colab": {
          "base_uri": "https://localhost:8080/"
        },
        "id": "rkWhFkXC8tBd",
        "outputId": "fa1ac93a-366d-4d9f-94eb-ef68ed1343d5"
      },
      "outputs": [
        {
          "output_type": "stream",
          "name": "stdout",
          "text": [
            "Modelin doğruluk oranı: 79.64%\n",
            "Recall (Macro): 60.01%\n",
            "Recall (Micro): 79.64%\n",
            "Precision (Macro): 74.69%\n",
            "Precision (Micro): 79.64%\n",
            "F1 Score (Macro): 61.34%\n",
            "F1 Score (Micro): 79.64%\n"
          ]
        }
      ],
      "source": [
        "import pandas as pd\n",
        "from sklearn.feature_extraction.text import CountVectorizer\n",
        "from sklearn.ensemble import RandomForestClassifier\n",
        "from sklearn.metrics import accuracy_score, recall_score, precision_score, f1_score\n",
        "from sklearn.model_selection import train_test_split\n",
        "\n",
        "# Excel dosyasından verileri oku\n",
        "df = pd.read_excel('/content/COVIDSONRASI.xlsx')\n",
        "\n",
        "# NaN değerlere sahip satırları çıkar\n",
        "df = df.dropna(subset=['tweets', 'total'])\n",
        "\n",
        "# Özellik çıkarma: Tweetleri kelime sayısına göre özellik olarak temsil et\n",
        "vectorizer = CountVectorizer()\n",
        "X = vectorizer.fit_transform(df['tweets'].values.astype(str))\n",
        "\n",
        "# Etiketleri al\n",
        "y = df['total'].values\n",
        "\n",
        "# Veri kümesini eğitim ve test kümelerine ayır\n",
        "X_train, X_test, y_train, y_test = train_test_split(X, y, test_size=0.3, random_state=42)\n",
        "\n",
        "# Random Forest modelini eğit\n",
        "rf_clf = RandomForestClassifier()\n",
        "rf_clf.fit(X_train, y_train)\n",
        "\n",
        "# Test kümesini kullanarak modeli değerlendir\n",
        "y_pred = rf_clf.predict(X_test)\n",
        "\n",
        "# Doğruluk oranını hesapla\n",
        "accuracy = accuracy_score(y_test, y_pred)\n",
        "print(\"Modelin doğruluk oranı: {:.2%}\".format(accuracy))\n",
        "\n",
        "# Recall değerini hesapla (Makro, Mikro)\n",
        "recall_macro = recall_score(y_test, y_pred, average='macro')\n",
        "recall_micro = recall_score(y_test, y_pred, average='micro')\n",
        "print(\"Recall (Macro): {:.2%}\".format(recall_macro))\n",
        "print(\"Recall (Micro): {:.2%}\".format(recall_micro))\n",
        "\n",
        "# Precision değerini hesapla (Makro, Mikro)\n",
        "precision_macro = precision_score(y_test, y_pred, average='macro')\n",
        "precision_micro = precision_score(y_test, y_pred, average='micro')\n",
        "print(\"Precision (Macro): {:.2%}\".format(precision_macro))\n",
        "print(\"Precision (Micro): {:.2%}\".format(precision_micro))\n",
        "\n",
        "# F1 skoru hesapla (Makro, Mikro)\n",
        "f1_macro = f1_score(y_test, y_pred, average='macro')\n",
        "f1_micro = f1_score(y_test, y_pred, average='micro')\n",
        "print(\"F1 Score (Macro): {:.2%}\".format(f1_macro))\n",
        "print(\"F1 Score (Micro): {:.2%}\".format(f1_micro))\n"
      ]
    }
  ]
}