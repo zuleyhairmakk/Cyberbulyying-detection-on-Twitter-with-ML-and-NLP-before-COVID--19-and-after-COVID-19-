{
  "nbformat": 4,
  "nbformat_minor": 0,
  "metadata": {
    "colab": {
      "provenance": []
    },
    "kernelspec": {
      "name": "python3",
      "display_name": "Python 3"
    },
    "language_info": {
      "name": "python"
    }
  },
  "cells": [
    {
      "cell_type": "code",
      "execution_count": null,
      "metadata": {
        "colab": {
          "base_uri": "https://localhost:8080/"
        },
        "id": "epdpqsYD-UEQ",
        "outputId": "57ccf9bf-7ee8-4c14-a69a-af9bec57374c"
      },
      "outputs": [
        {
          "output_type": "stream",
          "name": "stdout",
          "text": [
            "Modelin doğruluk oranı: 78.36%\n"
          ]
        }
      ],
      "source": [
        "import pandas as pd\n",
        "from sklearn.feature_extraction.text import CountVectorizer\n",
        "from sklearn.preprocessing import StandardScaler\n",
        "from sklearn.neighbors import KNeighborsClassifier\n",
        "from sklearn.model_selection import train_test_split\n",
        "\n",
        "# Excel dosyasından verileri oku\n",
        "df = pd.read_excel(\"/content/COVIDONCESI.xlsx\")\n",
        "\n",
        "# NaN değerleri içeren satırları çıkar\n",
        "df = df.dropna(subset=[\"tweets\", \"total\"])\n",
        "\n",
        "sentences = df[\"tweets\"].values  # Cümleler\n",
        "labels = df[\"total\"].values  # Sınıf etiketleri\n",
        "\n",
        "# Özellik çıkarma: cümleleri kelime sayısına göre özellik olarak temsil et\n",
        "vectorizer = CountVectorizer()\n",
        "X = vectorizer.fit_transform(df['tweets'].values.astype(str))\n",
        "\n",
        "# Özellikleri standartlaştır\n",
        "scaler = StandardScaler(with_mean=False, with_std=False)\n",
        "X_scaled = scaler.fit_transform(X)\n",
        "\n",
        "# Veri kümesini eğitim ve test kümelerine ayır\n",
        "X_train, X_test, y_train, y_test = train_test_split(X_scaled, labels, test_size=0.3, random_state=42)\n",
        "\n",
        "# KNN modelini eğit\n",
        "knn_clf = KNeighborsClassifier(n_neighbors=3)\n",
        "knn_clf.fit(X_train, y_train)\n",
        "\n",
        "# Test kümesini kullanarak modeli değerlendir\n",
        "accuracy = knn_clf.score(X_test, y_test)\n",
        "print(\"Modelin doğruluk oranı: {:.2%}\".format(accuracy))"
      ]
    },
    {
      "cell_type": "code",
      "source": [
        "from sklearn.tree import DecisionTreeClassifier\n",
        "from sklearn.metrics import precision_score, recall_score, f1_score\n",
        "\n",
        "# Karar ağacı modelini tanımlayın\n",
        "model = DecisionTreeClassifier()\n",
        "\n",
        "# Modeli eğitin\n",
        "model.fit(X_train, y_train)\n",
        "\n",
        "# Modeli kullanarak tahminler yapın\n",
        "y_pred = model.predict(X_test)\n",
        "\n",
        "# Precision, recall ve F-measure hesaplayın\n",
        "precision_macro = precision_score(y_test, y_pred, average='macro')\n",
        "recall_macro = recall_score(y_test, y_pred, average='macro')\n",
        "f_measure_macro = f1_score(y_test, y_pred, average='macro')\n",
        "\n",
        "precision_micro = precision_score(y_test, y_pred, average='micro')\n",
        "recall_micro = recall_score(y_test, y_pred, average='micro')\n",
        "f_measure_micro = f1_score(y_test, y_pred, average='micro')\n",
        "\n",
        "# Değerleri yüzdelik olarak yazdırın\n",
        "print(\"Macro Precision: {:.2%}\".format(precision_macro))\n",
        "print(\"Macro Recall: {:.2%}\".format(recall_macro))\n",
        "print(\"Macro F-measure: {:.2%}\".format(f_measure_macro))\n",
        "\n",
        "print(\"Micro Precision: {:.2%}\".format(precision_micro))\n",
        "print(\"Micro Recall: {:.2%}\".format(recall_micro))\n",
        "print(\"Micro F-measure: {:.2%}\".format(f_measure_micro))\n"
      ],
      "metadata": {
        "colab": {
          "base_uri": "https://localhost:8080/"
        },
        "id": "2oszzPaj-bXa",
        "outputId": "d5cba09a-a151-431e-a422-fafc22e546ca"
      },
      "execution_count": null,
      "outputs": [
        {
          "output_type": "stream",
          "name": "stdout",
          "text": [
            "Macro Precision: 66.05%\n",
            "Macro Recall: 62.92%\n",
            "Macro F-measure: 64.09%\n",
            "Micro Precision: 80.26%\n",
            "Micro Recall: 80.26%\n",
            "Micro F-measure: 80.26%\n"
          ]
        }
      ]
    }
  ]
}