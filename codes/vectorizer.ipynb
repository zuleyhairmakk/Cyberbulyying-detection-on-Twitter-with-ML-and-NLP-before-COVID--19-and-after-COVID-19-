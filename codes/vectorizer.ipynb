{
  "nbformat": 4,
  "nbformat_minor": 0,
  "metadata": {
    "colab": {
      "provenance": []
    },
    "kernelspec": {
      "name": "python3",
      "display_name": "Python 3"
    },
    "language_info": {
      "name": "python"
    }
  },
  "cells": [
    {
      "cell_type": "code",
      "execution_count": null,
      "metadata": {
        "colab": {
          "base_uri": "https://localhost:8080/"
        },
        "id": "eo-VnvS_DGyw",
        "outputId": "675776a6-94af-4183-d0f0-dcf845735eeb"
      },
      "outputs": [
        {
          "output_type": "stream",
          "name": "stdout",
          "text": [
            "Toplam kelime sayısı: 35514\n",
            "Toplam cümle sayısı: 8666\n"
          ]
        }
      ],
      "source": [
        "import pandas as pd\n",
        "from sklearn.feature_extraction.text import CountVectorizer\n",
        "\n",
        "# Excel dosyasını oku\n",
        "data = pd.read_excel('/content/COVIDONCESI.xlsx')\n",
        "\n",
        "# Tweetlerin olduğu sütunu ve etiketlerin olduğu sütunu belirle\n",
        "tweets = data['tweets']\n",
        "etiketler = data['total']\n",
        "\n",
        "# Sadece metin verilerini içeren satırları filtrele\n",
        "metin_verileri = tweets.apply(lambda x: x if isinstance(x, str) else '')\n",
        "\n",
        "# CountVectorizer kullanarak metin verilerini vektörleştir\n",
        "vectorizer = CountVectorizer()\n",
        "vectors = vectorizer.fit_transform(metin_verileri)\n",
        "\n",
        "# Kelime ve cümle sayısını hesapla\n",
        "kelime_sayisi = len(vectorizer.vocabulary_)\n",
        "cumle_sayisi = vectors.shape[0]\n",
        "\n",
        "print(\"Toplam kelime sayısı:\", kelime_sayisi)\n",
        "print(\"Toplam cümle sayısı:\", cumle_sayisi)\n",
        "\n",
        "\n"
      ]
    },
    {
      "cell_type": "code",
      "source": [
        "pip install pandas scikit-learn\n"
      ],
      "metadata": {
        "colab": {
          "base_uri": "https://localhost:8080/"
        },
        "id": "rk3PbTLTEUWG",
        "outputId": "c4e29cef-e9ca-4903-c8a6-7cd10f8f286b"
      },
      "execution_count": null,
      "outputs": [
        {
          "output_type": "stream",
          "name": "stdout",
          "text": [
            "Looking in indexes: https://pypi.org/simple, https://us-python.pkg.dev/colab-wheels/public/simple/\n",
            "Requirement already satisfied: pandas in /usr/local/lib/python3.10/dist-packages (1.5.3)\n",
            "Requirement already satisfied: scikit-learn in /usr/local/lib/python3.10/dist-packages (1.2.2)\n",
            "Requirement already satisfied: python-dateutil>=2.8.1 in /usr/local/lib/python3.10/dist-packages (from pandas) (2.8.2)\n",
            "Requirement already satisfied: pytz>=2020.1 in /usr/local/lib/python3.10/dist-packages (from pandas) (2022.7.1)\n",
            "Requirement already satisfied: numpy>=1.21.0 in /usr/local/lib/python3.10/dist-packages (from pandas) (1.22.4)\n",
            "Requirement already satisfied: scipy>=1.3.2 in /usr/local/lib/python3.10/dist-packages (from scikit-learn) (1.10.1)\n",
            "Requirement already satisfied: joblib>=1.1.1 in /usr/local/lib/python3.10/dist-packages (from scikit-learn) (1.2.0)\n",
            "Requirement already satisfied: threadpoolctl>=2.0.0 in /usr/local/lib/python3.10/dist-packages (from scikit-learn) (3.1.0)\n",
            "Requirement already satisfied: six>=1.5 in /usr/local/lib/python3.10/dist-packages (from python-dateutil>=2.8.1->pandas) (1.16.0)\n"
          ]
        }
      ]
    }
  ]
}